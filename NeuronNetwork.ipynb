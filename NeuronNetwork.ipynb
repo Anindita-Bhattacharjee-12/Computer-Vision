{
  "nbformat": 4,
  "nbformat_minor": 0,
  "metadata": {
    "colab": {
      "provenance": []
    },
    "kernelspec": {
      "name": "python3",
      "display_name": "Python 3"
    },
    "language_info": {
      "name": "python"
    }
  },
  "cells": [
    {
      "cell_type": "code",
      "execution_count": null,
      "metadata": {
        "colab": {
          "base_uri": "https://localhost:8080/",
          "height": 430
        },
        "id": "dxGYN4jpOY5b",
        "outputId": "f7bb2f18-b243-42ec-99a8-a9bcff2a2770"
      },
      "outputs": [
        {
          "output_type": "display_data",
          "data": {
            "text/plain": [
              "<Figure size 640x480 with 1 Axes>"
            ],
            "image/png": "[encoded data removed]"
          },
          "metadata": {}
        }
      ],
      "source": [
        "import matplotlib.pyplot as plt\n",
        "import random\n",
        "import math\n",
        "X1 = [0,0,1,1]\n",
        "X2 = [0,1,0,1]\n",
        "Y  = [0,1,1,1]\n",
        "plt.figure()\n",
        "\n",
        "for i in range(len(Y)):\n",
        "    if Y[i] == 1:\n",
        "        plt.plot(X1[i], X2[i], \"ro\")\n",
        "    else:\n",
        "        plt.plot(X1[i], X2[i], \"go\")\n",
        "\n",
        "plt.show()"
      ]
    },
    {
      "cell_type": "code",
      "source": [
        "W = [random.random(), random.random()]\n",
        "b = random.random()\n",
        "\n",
        "print(W, b)\n",
        "\n",
        "lr=0.01\n",
        "theta=0.5"
      ],
      "metadata": {
        "colab": {
          "base_uri": "https://localhost:8080/"
        },
        "id": "cT5rOCBgOkKM",
        "outputId": "dbedf715-2cfb-4c60-8a3e-527a886736c6"
      },
      "execution_count": null,
      "outputs": [
        {
          "output_type": "stream",
          "name": "stdout",
          "text": [
            "[0.9256496129491292, 0.9945805366299499] 0.7240824866846296\n"
          ]
        }
      ]
    },
    {
      "cell_type": "code",
      "source": [
        "epoch = 0\n",
        "count = 0\n",
        "\n",
        "while count < 4:\n",
        "\n",
        "    total_error = 0\n",
        "    print(f\"Epoch: {epoch}\")\n",
        "    for i in range(len(X2)):\n",
        "        weighted_sum = W[0]*X1[i] + W[1]*X2[i] + b\n",
        "        pred = 0\n",
        "        if weighted_sum > theta:\n",
        "            pred = 1\n",
        "\n",
        "        error =  Y[i] - pred\n",
        "        if error != 0:\n",
        "            count = 0\n",
        "            total_error += math.sqrt(error**2)\n",
        "\n",
        "            W[0] += lr * error * X1[i]\n",
        "            W[1] += lr * error * X2[i]\n",
        "            b    += lr * error\n",
        "        else:\n",
        "            count += 1\n",
        "\n",
        "        print(f\"[{X1[i]} , {X2[i]}] = {pred}\")\n",
        "\n",
        "    print(f\"Loss: {total_error}\")\n",
        "    print(\"===------------------------------===\")\n",
        "    epoch += 1"
      ],
      "metadata": {
        "colab": {
          "base_uri": "https://localhost:8080/"
        },
        "id": "INt4LnmjU5RJ",
        "outputId": "59dd767a-1a7d-41bb-fa79-e26e17056f0c"
      },
      "execution_count": null,
      "outputs": [
        {
          "output_type": "stream",
          "name": "stdout",
          "text": [
            "Epoch: 0\n",
            "[0 , 0] = 1\n",
            "[0 , 1] = 1\n",
            "[1 , 0] = 1\n",
            "[1 , 1] = 1\n",
            "Loss: 1.0\n",
            "===------------------------------===\n",
            "Epoch: 1\n",
            "[0 , 0] = 1\n",
            "[0 , 1] = 1\n",
            "[1 , 0] = 1\n",
            "[1 , 1] = 1\n",
            "Loss: 1.0\n",
            "===------------------------------===\n",
            "Epoch: 2\n",
            "[0 , 0] = 1\n",
            "[0 , 1] = 1\n",
            "[1 , 0] = 1\n",
            "[1 , 1] = 1\n",
            "Loss: 1.0\n",
            "===------------------------------===\n",
            "Epoch: 3\n",
            "[0 , 0] = 1\n",
            "[0 , 1] = 1\n",
            "[1 , 0] = 1\n",
            "[1 , 1] = 1\n",
            "Loss: 1.0\n",
            "===------------------------------===\n",
            "Epoch: 4\n",
            "[0 , 0] = 1\n",
            "[0 , 1] = 1\n",
            "[1 , 0] = 1\n",
            "[1 , 1] = 1\n",
            "Loss: 1.0\n",
            "===------------------------------===\n",
            "Epoch: 5\n",
            "[0 , 0] = 1\n",
            "[0 , 1] = 1\n",
            "[1 , 0] = 1\n",
            "[1 , 1] = 1\n",
            "Loss: 1.0\n",
            "===------------------------------===\n",
            "Epoch: 6\n",
            "[0 , 0] = 1\n",
            "[0 , 1] = 1\n",
            "[1 , 0] = 1\n",
            "[1 , 1] = 1\n",
            "Loss: 1.0\n",
            "===------------------------------===\n",
            "Epoch: 7\n",
            "[0 , 0] = 1\n",
            "[0 , 1] = 1\n",
            "[1 , 0] = 1\n",
            "[1 , 1] = 1\n",
            "Loss: 1.0\n",
            "===------------------------------===\n",
            "Epoch: 8\n",
            "[0 , 0] = 1\n",
            "[0 , 1] = 1\n",
            "[1 , 0] = 1\n",
            "[1 , 1] = 1\n",
            "Loss: 1.0\n",
            "===------------------------------===\n",
            "Epoch: 9\n",
            "[0 , 0] = 1\n",
            "[0 , 1] = 1\n",
            "[1 , 0] = 1\n",
            "[1 , 1] = 1\n",
            "Loss: 1.0\n",
            "===------------------------------===\n",
            "Epoch: 10\n",
            "[0 , 0] = 1\n",
            "[0 , 1] = 1\n",
            "[1 , 0] = 1\n",
            "[1 , 1] = 1\n",
            "Loss: 1.0\n",
            "===------------------------------===\n",
            "Epoch: 11\n",
            "[0 , 0] = 1\n",
            "[0 , 1] = 1\n",
            "[1 , 0] = 1\n",
            "[1 , 1] = 1\n",
            "Loss: 1.0\n",
            "===------------------------------===\n",
            "Epoch: 12\n",
            "[0 , 0] = 1\n",
            "[0 , 1] = 1\n",
            "[1 , 0] = 1\n",
            "[1 , 1] = 1\n",
            "Loss: 1.0\n",
            "===------------------------------===\n",
            "Epoch: 13\n",
            "[0 , 0] = 1\n",
            "[0 , 1] = 1\n",
            "[1 , 0] = 1\n",
            "[1 , 1] = 1\n",
            "Loss: 1.0\n",
            "===------------------------------===\n",
            "Epoch: 14\n",
            "[0 , 0] = 1\n",
            "[0 , 1] = 1\n",
            "[1 , 0] = 1\n",
            "[1 , 1] = 1\n",
            "Loss: 1.0\n",
            "===------------------------------===\n",
            "Epoch: 15\n",
            "[0 , 0] = 1\n",
            "[0 , 1] = 1\n",
            "[1 , 0] = 1\n",
            "[1 , 1] = 1\n",
            "Loss: 1.0\n",
            "===------------------------------===\n",
            "Epoch: 16\n",
            "[0 , 0] = 1\n",
            "[0 , 1] = 1\n",
            "[1 , 0] = 1\n",
            "[1 , 1] = 1\n",
            "Loss: 1.0\n",
            "===------------------------------===\n",
            "Epoch: 17\n",
            "[0 , 0] = 1\n",
            "[0 , 1] = 1\n",
            "[1 , 0] = 1\n",
            "[1 , 1] = 1\n",
            "Loss: 1.0\n",
            "===------------------------------===\n",
            "Epoch: 18\n",
            "[0 , 0] = 1\n",
            "[0 , 1] = 1\n",
            "[1 , 0] = 1\n",
            "[1 , 1] = 1\n",
            "Loss: 1.0\n",
            "===------------------------------===\n",
            "Epoch: 19\n",
            "[0 , 0] = 1\n",
            "[0 , 1] = 1\n",
            "[1 , 0] = 1\n",
            "[1 , 1] = 1\n",
            "Loss: 1.0\n",
            "===------------------------------===\n",
            "Epoch: 20\n",
            "[0 , 0] = 1\n",
            "[0 , 1] = 1\n",
            "[1 , 0] = 1\n",
            "[1 , 1] = 1\n",
            "Loss: 1.0\n",
            "===------------------------------===\n",
            "Epoch: 21\n",
            "[0 , 0] = 1\n",
            "[0 , 1] = 1\n",
            "[1 , 0] = 1\n",
            "[1 , 1] = 1\n",
            "Loss: 1.0\n",
            "===------------------------------===\n",
            "Epoch: 22\n",
            "[0 , 0] = 1\n",
            "[0 , 1] = 1\n",
            "[1 , 0] = 1\n",
            "[1 , 1] = 1\n",
            "Loss: 1.0\n",
            "===------------------------------===\n",
            "Epoch: 23\n",
            "[0 , 0] = 0\n",
            "[0 , 1] = 1\n",
            "[1 , 0] = 1\n",
            "[1 , 1] = 1\n",
            "Loss: 0\n",
            "===------------------------------===\n"
          ]
        }
      ]
    },
    {
      "cell_type": "code",
      "source": [
        "print(f\"{W[0]}\")\n",
        "print(f\"{W[1]}\")\n",
        "print(f\"{b}\")"
      ],
      "metadata": {
        "colab": {
          "base_uri": "https://localhost:8080/"
        },
        "id": "owWqrSLzWDVi",
        "outputId": "1e2da1bc-691a-485e-c6bd-db3827ecfa6d"
      },
      "execution_count": null,
      "outputs": [
        {
          "output_type": "stream",
          "name": "stdout",
          "text": [
            "0.9256496129491292\n",
            "0.9945805366299499\n",
            "0.4940824866846294\n"
          ]
        }
      ]
    },
    {
      "cell_type": "code",
      "source": [
        "plt.figure()\n",
        "\n",
        "for i in range(len(Y)):\n",
        "    if Y[i] == 1:\n",
        "        plt.plot(X1[i], X2[i], \"ro\")\n",
        "    else:\n",
        "        plt.plot(X1[i], X2[i], \"go\")\n",
        "Xintr=(theta-b)/W[0]\n",
        "Yintr=(theta-b)/W[1]\n",
        "slope=-Yintr/Xintr\n",
        "xx=plt.xlim()\n",
        "yeq=[]\n",
        "for x in xx:\n",
        "  yeq.append(slope*x+Yintr)\n",
        "plt.plot(xx,yeq)\n",
        "plt.show()"
      ],
      "metadata": {
        "colab": {
          "base_uri": "https://localhost:8080/",
          "height": 430
        },
        "id": "yU55NMGGWRh2",
        "outputId": "659f669d-b607-41b9-8da4-9c3ecfd863db"
      },
      "execution_count": null,
      "outputs": [
        {
          "output_type": "display_data",
          "data": {
            "text/plain": [
              "<Figure size 640x480 with 1 Axes>"
            ],
            "image/png": "[encoded data removed]"
          },
          "metadata": {}
        }
      ]
    }
  ]
}